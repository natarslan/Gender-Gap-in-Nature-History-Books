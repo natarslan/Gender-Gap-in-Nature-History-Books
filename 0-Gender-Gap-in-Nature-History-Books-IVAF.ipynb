{
 "cells": [
  {
   "cell_type": "markdown",
   "metadata": {
    "toc": true
   },
   "source": [
    "<h1>Table of Contents<span class=\"tocSkip\"></span></h1>\n",
    "<div class=\"toc\"><ul class=\"toc-item\"><li><span><a href=\"#Bookdepository-Dataset\" data-toc-modified-id=\"Bookdepository-Dataset-1\"><span class=\"toc-item-num\">1&nbsp;&nbsp;</span>Bookdepository Dataset</a></span></li><li><span><a href=\"#Virtual-International-Authority-File-(VIAF)-Dataset\" data-toc-modified-id=\"Virtual-International-Authority-File-(VIAF)-Dataset-2\"><span class=\"toc-item-num\">2&nbsp;&nbsp;</span>Virtual International Authority File (VIAF) Dataset</a></span><ul class=\"toc-item\"><li><span><a href=\"#Check-VIAF-links-by-using-the-Bookdepository-author-names\" data-toc-modified-id=\"Check-VIAF-links-by-using-the-Bookdepository-author-names-2.1\"><span class=\"toc-item-num\">2.1&nbsp;&nbsp;</span>Check VIAF links by using the Bookdepository author names</a></span></li><li><span><a href=\"#Fetching-gender-data-from-VIAF-pages-with-Beautifulsoup\" data-toc-modified-id=\"Fetching-gender-data-from-VIAF-pages-with-Beautifulsoup-2.2\"><span class=\"toc-item-num\">2.2&nbsp;&nbsp;</span>Fetching gender data from VIAF pages with Beautifulsoup</a></span></li><li><span><a href=\"#Statistics-(VIAF)\" data-toc-modified-id=\"Statistics-(VIAF)-2.3\"><span class=\"toc-item-num\">2.3&nbsp;&nbsp;</span>Statistics (VIAF)</a></span></li></ul></li><li><span><a href=\"#Predicting-gender-from-first-name-by-using-Natural-Language-Processing\" data-toc-modified-id=\"Predicting-gender-from-first-name-by-using-Natural-Language-Processing-3\"><span class=\"toc-item-num\">3&nbsp;&nbsp;</span>Predicting gender from first name by using Natural Language Processing</a></span><ul class=\"toc-item\"><li><span><a href=\"#Statistics-(NTLK)\" data-toc-modified-id=\"Statistics-(NTLK)-3.1\"><span class=\"toc-item-num\">3.1&nbsp;&nbsp;</span>Statistics (NTLK)</a></span></li></ul></li><li><span><a href=\"#Summing-it-all-up\" data-toc-modified-id=\"Summing-it-all-up-4\"><span class=\"toc-item-num\">4&nbsp;&nbsp;</span>Summing it all up</a></span><ul class=\"toc-item\"><li><span><a href=\"#Plots\" data-toc-modified-id=\"Plots-4.1\"><span class=\"toc-item-num\">4.1&nbsp;&nbsp;</span>Plots</a></span></li></ul></li></ul></div>"
   ]
  },
  {
   "cell_type": "code",
   "execution_count": 1,
   "metadata": {},
   "outputs": [],
   "source": [
    "import requests\n",
    "import pandas as pd\n",
    "import datetime\n",
    "from bs4 import BeautifulSoup"
   ]
  },
  {
   "cell_type": "markdown",
   "metadata": {},
   "source": [
    "## Bookdepository Dataset\n",
    "This dataset is a result of webscraping. I fetched books that were published under natural history category in bookdepository [webpage](https://www.bookdepository.com/category/2985/Natural-History/browse/viewmode/all?page=1). The result was ~ 10,000 books with titles, authors and publishing year. I filtered this data and retrieved the natural history books for each year between 2015 and 2021. In this project I will check only the books published 2021 = 982 books."
   ]
  },
  {
   "cell_type": "code",
   "execution_count": 2,
   "metadata": {
    "scrolled": true
   },
   "outputs": [
    {
     "data": {
      "text/html": [
       "<div>\n",
       "<style scoped>\n",
       "    .dataframe tbody tr th:only-of-type {\n",
       "        vertical-align: middle;\n",
       "    }\n",
       "\n",
       "    .dataframe tbody tr th {\n",
       "        vertical-align: top;\n",
       "    }\n",
       "\n",
       "    .dataframe thead th {\n",
       "        text-align: right;\n",
       "    }\n",
       "</style>\n",
       "<table border=\"1\" class=\"dataframe\">\n",
       "  <thead>\n",
       "    <tr style=\"text-align: right;\">\n",
       "      <th></th>\n",
       "      <th>Unnamed: 0</th>\n",
       "      <th>authors</th>\n",
       "      <th>titles</th>\n",
       "      <th>date</th>\n",
       "      <th>year</th>\n",
       "    </tr>\n",
       "  </thead>\n",
       "  <tbody>\n",
       "    <tr>\n",
       "      <th>0</th>\n",
       "      <td>17</td>\n",
       "      <td>Merlin Sheldrake</td>\n",
       "      <td>Entangled Life</td>\n",
       "      <td>02 Sep 2021</td>\n",
       "      <td>2021</td>\n",
       "    </tr>\n",
       "    <tr>\n",
       "      <th>1</th>\n",
       "      <td>35</td>\n",
       "      <td>Jeremy Clarkson</td>\n",
       "      <td>Diddly Squat</td>\n",
       "      <td>11 Nov 2021</td>\n",
       "      <td>2021</td>\n",
       "    </tr>\n",
       "    <tr>\n",
       "      <th>2</th>\n",
       "      <td>38</td>\n",
       "      <td>Lia Leendertz</td>\n",
       "      <td>The Almanac</td>\n",
       "      <td>02 Sep 2021</td>\n",
       "      <td>2021</td>\n",
       "    </tr>\n",
       "    <tr>\n",
       "      <th>3</th>\n",
       "      <td>43</td>\n",
       "      <td>Sosuke Natsukawa</td>\n",
       "      <td>The Cat Who Saved Books</td>\n",
       "      <td>16 Sep 2021</td>\n",
       "      <td>2021</td>\n",
       "    </tr>\n",
       "    <tr>\n",
       "      <th>4</th>\n",
       "      <td>62</td>\n",
       "      <td>James Stewart</td>\n",
       "      <td>Dinosaur Therapy</td>\n",
       "      <td>24 Aug 2021</td>\n",
       "      <td>2021</td>\n",
       "    </tr>\n",
       "  </tbody>\n",
       "</table>\n",
       "</div>"
      ],
      "text/plain": [
       "  Unnamed: 0           authors                   titles         date  year\n",
       "0         17  Merlin Sheldrake           Entangled Life  02 Sep 2021  2021\n",
       "1         35   Jeremy Clarkson             Diddly Squat  11 Nov 2021  2021\n",
       "2         38     Lia Leendertz              The Almanac  02 Sep 2021  2021\n",
       "3         43  Sosuke Natsukawa  The Cat Who Saved Books  16 Sep 2021  2021\n",
       "4         62     James Stewart         Dinosaur Therapy  24 Aug 2021  2021"
      ]
     },
     "execution_count": 2,
     "metadata": {},
     "output_type": "execute_result"
    }
   ],
   "source": [
    "# Import Bookdepository CSV\n",
    "books = pd.read_csv(\"/Users/nat/Desktop/Code/Code Projects/Book-Gender/Data/Bookdepository/NaturalHistory-Bookdepository-2021.csv\", dtype=str)\n",
    "books.head(5)"
   ]
  },
  {
   "cell_type": "markdown",
   "metadata": {},
   "source": [
    "## Virtual International Authority File (VIAF) Dataset\n",
    "\n",
    "This is the dataset downloaded from [here](http://viaf.org/viaf/data/). The unzipped file is 9,37 GB. In another notebook I simplified this file by getting the rows that only contained wikipedia pages. Because most authors have a wikipedia page. This way the file size decreased to ~ 235MB.\n"
   ]
  },
  {
   "cell_type": "code",
   "execution_count": 47,
   "metadata": {
    "scrolled": true
   },
   "outputs": [
    {
     "data": {
      "text/html": [
       "<div>\n",
       "<style scoped>\n",
       "    .dataframe tbody tr th:only-of-type {\n",
       "        vertical-align: middle;\n",
       "    }\n",
       "\n",
       "    .dataframe tbody tr th {\n",
       "        vertical-align: top;\n",
       "    }\n",
       "\n",
       "    .dataframe thead th {\n",
       "        text-align: right;\n",
       "    }\n",
       "</style>\n",
       "<table border=\"1\" class=\"dataframe\">\n",
       "  <thead>\n",
       "    <tr style=\"text-align: right;\">\n",
       "      <th></th>\n",
       "      <th>Unnamed: 0</th>\n",
       "      <th>viaf</th>\n",
       "      <th>info</th>\n",
       "      <th>Name</th>\n",
       "    </tr>\n",
       "  </thead>\n",
       "  <tbody>\n",
       "    <tr>\n",
       "      <th>0</th>\n",
       "      <td>11</td>\n",
       "      <td>http://viaf.org/viaf/10001407</td>\n",
       "      <td>Wikipedia@https://cs.wikipedia.org/wiki/Pavel_...</td>\n",
       "      <td>Pavel Hrach</td>\n",
       "    </tr>\n",
       "    <tr>\n",
       "      <th>1</th>\n",
       "      <td>70</td>\n",
       "      <td>http://viaf.org/viaf/100109330</td>\n",
       "      <td>Wikipedia@https://fr.wikipedia.org/wiki/Emile_...</td>\n",
       "      <td>Emile de Meester de Ravestein</td>\n",
       "    </tr>\n",
       "    <tr>\n",
       "      <th>2</th>\n",
       "      <td>121</td>\n",
       "      <td>http://viaf.org/viaf/100144403</td>\n",
       "      <td>Wikipedia@https://cy.wikipedia.org/wiki/Teresa...</td>\n",
       "      <td>Teresa Magalhães</td>\n",
       "    </tr>\n",
       "    <tr>\n",
       "      <th>3</th>\n",
       "      <td>246</td>\n",
       "      <td>http://viaf.org/viaf/100177876</td>\n",
       "      <td>Wikipedia@https://nl.wikipedia.org/wiki/Guilla...</td>\n",
       "      <td>Guillaume Caoursin</td>\n",
       "    </tr>\n",
       "    <tr>\n",
       "      <th>4</th>\n",
       "      <td>331</td>\n",
       "      <td>http://viaf.org/viaf/100208187</td>\n",
       "      <td>Wikipedia@https://ru.wikipedia.org/wiki/Ришле,...</td>\n",
       "      <td>Ришле, Сезар-Пьер</td>\n",
       "    </tr>\n",
       "  </tbody>\n",
       "</table>\n",
       "</div>"
      ],
      "text/plain": [
       "  Unnamed: 0                            viaf  \\\n",
       "0         11   http://viaf.org/viaf/10001407   \n",
       "1         70  http://viaf.org/viaf/100109330   \n",
       "2        121  http://viaf.org/viaf/100144403   \n",
       "3        246  http://viaf.org/viaf/100177876   \n",
       "4        331  http://viaf.org/viaf/100208187   \n",
       "\n",
       "                                                info  \\\n",
       "0  Wikipedia@https://cs.wikipedia.org/wiki/Pavel_...   \n",
       "1  Wikipedia@https://fr.wikipedia.org/wiki/Emile_...   \n",
       "2  Wikipedia@https://cy.wikipedia.org/wiki/Teresa...   \n",
       "3  Wikipedia@https://nl.wikipedia.org/wiki/Guilla...   \n",
       "4  Wikipedia@https://ru.wikipedia.org/wiki/Ришле,...   \n",
       "\n",
       "                            Name  \n",
       "0                    Pavel Hrach  \n",
       "1  Emile de Meester de Ravestein  \n",
       "2               Teresa Magalhães  \n",
       "3             Guillaume Caoursin  \n",
       "4              Ришле, Сезар-Пьер  "
      ]
     },
     "execution_count": 47,
     "metadata": {},
     "output_type": "execute_result"
    }
   ],
   "source": [
    "# Import VIAF CSV (I changed the way I edited VIAF file. This is the 2nd version)\n",
    "viaf_db = pd.read_csv(\"/Users/nat/Desktop/Code/Code Projects/Book-Gender/Data/Viaf/Viaf-simple.csv\", dtype=str)\n",
    "\n",
    "viaf_db.head(5)\n"
   ]
  },
  {
   "cell_type": "markdown",
   "metadata": {},
   "source": [
    "### Check VIAF links by using the Bookdepository author names\n",
    "\n",
    "So VIAF file may contain many people and not necesseraly only authors. But we already have our author names from bookdepository. All we need to do is to cross check and link the book depository authors to their VIAF pages (if it exists). \n",
    "\n",
    "Note: The blow process takes a long time. Grab a coffee : )"
   ]
  },
  {
   "cell_type": "code",
   "execution_count": null,
   "metadata": {
    "scrolled": true
   },
   "outputs": [],
   "source": [
    "links = []\n",
    "author_with_viaf = []\n",
    "books_with_viaf = []\n",
    "\n",
    "names_to_predict = []\n",
    "author_without_viaf = []\n",
    "books_without_viaf = []\n",
    "\n",
    "for i in range(len(books['authors'])):\n",
    "    \n",
    "    # Find whether the name in bookdeposit dataset exists in VIAF dataset\n",
    "    name = books['authors'][i]\n",
    "    #print(i)\n",
    "    \n",
    "    boolean_finding = viaf_db['Name'].str.contains(name, case=False).any() # True or False\n",
    "    \n",
    "    # If its true get the viaf link\n",
    "    if boolean_finding == True:\n",
    "        \n",
    "        df2 = viaf_db[(viaf_db['Name'].str.contains(name, case=False))]\n",
    "        viaf_link = df2['viaf'].loc[df2.index[0]]\n",
    "        links.append(viaf_link)\n",
    "        \n",
    "        author_with_viaf.append(books['authors'][i])\n",
    "        books_with_viaf.append(books['titles'][i])\n",
    "    \n",
    "    else:\n",
    "        names_to_predict.append(name)\n",
    "        author_without_viaf.append(books['authors'][i])\n",
    "        books_without_viaf.append(books['titles'][i])\n",
    "\n",
    "print(\"Cross checking finished. If a VIAF link exists for an author it was saved in the list.\")\n",
    "    \n",
    "    "
   ]
  },
  {
   "cell_type": "code",
   "execution_count": 9,
   "metadata": {},
   "outputs": [],
   "source": [
    "# Convert lists to dataframe and then save locally (Saving the files makes it easier to test)\n",
    "# Create dataframe from the lists\n",
    "zipped1 = list(zip(author_with_viaf, books_with_viaf, links))\n",
    "zipped2 = list(zip(author_without_viaf, books_without_viaf, names_to_predict))\n",
    "\n",
    "viaf_authors = pd.DataFrame(zipped1, columns=['Author', 'Book', 'Links'])\n",
    "predict_authors = pd.DataFrame(zipped2, columns=['Author', 'Book', 'Names'])\n",
    "\n",
    "# storing these dataframes in a csv file\n",
    "viaf_authors.to_csv(r'/Users/nat/Desktop/Code/Code Projects/Book-Gender/Data/Viaf/Viaf-author-links-2021.csv') #, index = None\n",
    "predict_authors.to_csv(r'/Users/nat/Desktop/Code/Code Projects/Book-Gender/Data/Viaf/Author_names_to_predict-2021.csv') \n",
    "\n"
   ]
  },
  {
   "cell_type": "code",
   "execution_count": 14,
   "metadata": {},
   "outputs": [
    {
     "name": "stdout",
     "output_type": "stream",
     "text": [
      "There are 982 books published in 2021 within Nature History category. This code managed to link 311 of these book authors to their personal VIAF pages from which we will retrieve author gender information. We need to predict the gender for the remaining 671 authors.\n"
     ]
    }
   ],
   "source": [
    "b = len(books)\n",
    "v = len(viaf_authors)\n",
    "p = len(predict_authors)\n",
    "print(\"There are {} books published in 2021 within Nature History category. This code managed to link {} of these book authors to their personal VIAF pages from which we will retrieve author gender information. We need to predict the gender for the remaining {} authors.\".format(b,v,p))\n"
   ]
  },
  {
   "cell_type": "markdown",
   "metadata": {},
   "source": [
    "### Fetching gender data from VIAF pages with Beautifulsoup "
   ]
  },
  {
   "cell_type": "code",
   "execution_count": 45,
   "metadata": {},
   "outputs": [
    {
     "data": {
      "text/html": [
       "<div>\n",
       "<style scoped>\n",
       "    .dataframe tbody tr th:only-of-type {\n",
       "        vertical-align: middle;\n",
       "    }\n",
       "\n",
       "    .dataframe tbody tr th {\n",
       "        vertical-align: top;\n",
       "    }\n",
       "\n",
       "    .dataframe thead th {\n",
       "        text-align: right;\n",
       "    }\n",
       "</style>\n",
       "<table border=\"1\" class=\"dataframe\">\n",
       "  <thead>\n",
       "    <tr style=\"text-align: right;\">\n",
       "      <th></th>\n",
       "      <th>Author</th>\n",
       "      <th>Book</th>\n",
       "      <th>Links</th>\n",
       "      <th>Gender</th>\n",
       "    </tr>\n",
       "  </thead>\n",
       "  <tbody>\n",
       "    <tr>\n",
       "      <th>0</th>\n",
       "      <td>Merlin Sheldrake</td>\n",
       "      <td>Entangled Life</td>\n",
       "      <td>http://viaf.org/viaf/31157340763509922488</td>\n",
       "      <td></td>\n",
       "    </tr>\n",
       "    <tr>\n",
       "      <th>1</th>\n",
       "      <td>Jeremy Clarkson</td>\n",
       "      <td>Diddly Squat</td>\n",
       "      <td>http://viaf.org/viaf/102195935</td>\n",
       "      <td></td>\n",
       "    </tr>\n",
       "    <tr>\n",
       "      <th>2</th>\n",
       "      <td>James Stewart</td>\n",
       "      <td>Dinosaur Therapy</td>\n",
       "      <td>http://viaf.org/viaf/121702213</td>\n",
       "      <td></td>\n",
       "    </tr>\n",
       "    <tr>\n",
       "      <th>3</th>\n",
       "      <td>James Rebanks</td>\n",
       "      <td>English Pastoral</td>\n",
       "      <td>http://viaf.org/viaf/311766886</td>\n",
       "      <td></td>\n",
       "    </tr>\n",
       "    <tr>\n",
       "      <th>4</th>\n",
       "      <td>Raynor Winn</td>\n",
       "      <td>The Wild Silence</td>\n",
       "      <td>http://viaf.org/viaf/74154921352863592450</td>\n",
       "      <td></td>\n",
       "    </tr>\n",
       "  </tbody>\n",
       "</table>\n",
       "</div>"
      ],
      "text/plain": [
       "             Author              Book  \\\n",
       "0  Merlin Sheldrake    Entangled Life   \n",
       "1   Jeremy Clarkson      Diddly Squat   \n",
       "2     James Stewart  Dinosaur Therapy   \n",
       "3     James Rebanks  English Pastoral   \n",
       "4       Raynor Winn  The Wild Silence   \n",
       "\n",
       "                                       Links Gender  \n",
       "0  http://viaf.org/viaf/31157340763509922488         \n",
       "1             http://viaf.org/viaf/102195935         \n",
       "2             http://viaf.org/viaf/121702213         \n",
       "3             http://viaf.org/viaf/311766886         \n",
       "4  http://viaf.org/viaf/74154921352863592450         "
      ]
     },
     "execution_count": 45,
     "metadata": {},
     "output_type": "execute_result"
    }
   ],
   "source": [
    "# Import CSV\n",
    "viaf_authors = pd.read_csv(\"/Users/nat/Desktop/Code/Code Projects/Book-Gender/Data/Viaf/Viaf-author-links-2021.csv\", dtype=str)\n",
    "\n",
    "# Create an empty column for gender\n",
    "viaf_authors[\"Gender\"] = \"\"\n",
    "\n",
    "# Drop unnecessary columns\n",
    "viaf_authors.drop('Unnamed: 0', axis=1, inplace=True)\n",
    "\n",
    "viaf_authors.head(5)"
   ]
  },
  {
   "cell_type": "code",
   "execution_count": null,
   "metadata": {
    "scrolled": true
   },
   "outputs": [],
   "source": [
    "\n",
    "for i in range(len(viaf_authors)):\n",
    "    name = viaf_authors[\"Author\"][i]\n",
    "    #print(i)\n",
    "    \n",
    "    url = viaf_authors['Links'][i]\n",
    "    response = requests.get(url)\n",
    "    html = response.content\n",
    "    soup = BeautifulSoup(html, \"lxml\")\n",
    "    \n",
    "    gender = []\n",
    "    for item in soup.select(\"div.subsection\"):\n",
    "        text = item.text.strip()\n",
    "        text = text.replace('\\n','')\n",
    "        text = text.replace('\\t',' ')\n",
    "        text = text.replace('   ','')\n",
    "        gender.append(text)\n",
    "\n",
    "        text = text[0].split('Nationality')\n",
    "        text = str(text[0])\n",
    "        \n",
    "    f = \"Female\" in gender[0]\n",
    "    m = \"Male\" in gender[0]\n",
    "\n",
    "    if f == True:\n",
    "        viaf_authors[\"Gender\"][i] = \"Female\"\n",
    "        #print(name, \"Female\")  \n",
    "    elif m == True:\n",
    "        viaf_authors[\"Gender\"][i] = \"Male\"\n",
    "        #print(name, \"Male\")   \n",
    "    else:\n",
    "        viaf_authors[\"Gender\"][i] = \"Unknown\"\n",
    "        #print(name, \"Unknown\")\n"
   ]
  },
  {
   "cell_type": "code",
   "execution_count": 49,
   "metadata": {},
   "outputs": [
    {
     "data": {
      "text/html": [
       "<div>\n",
       "<style scoped>\n",
       "    .dataframe tbody tr th:only-of-type {\n",
       "        vertical-align: middle;\n",
       "    }\n",
       "\n",
       "    .dataframe tbody tr th {\n",
       "        vertical-align: top;\n",
       "    }\n",
       "\n",
       "    .dataframe thead th {\n",
       "        text-align: right;\n",
       "    }\n",
       "</style>\n",
       "<table border=\"1\" class=\"dataframe\">\n",
       "  <thead>\n",
       "    <tr style=\"text-align: right;\">\n",
       "      <th></th>\n",
       "      <th>Author</th>\n",
       "      <th>Book</th>\n",
       "      <th>Links</th>\n",
       "      <th>Gender</th>\n",
       "    </tr>\n",
       "  </thead>\n",
       "  <tbody>\n",
       "    <tr>\n",
       "      <th>0</th>\n",
       "      <td>Merlin Sheldrake</td>\n",
       "      <td>Entangled Life</td>\n",
       "      <td>http://viaf.org/viaf/31157340763509922488</td>\n",
       "      <td>NaN</td>\n",
       "    </tr>\n",
       "    <tr>\n",
       "      <th>1</th>\n",
       "      <td>Jeremy Clarkson</td>\n",
       "      <td>Diddly Squat</td>\n",
       "      <td>http://viaf.org/viaf/102195935</td>\n",
       "      <td>NaN</td>\n",
       "    </tr>\n",
       "    <tr>\n",
       "      <th>2</th>\n",
       "      <td>James Stewart</td>\n",
       "      <td>Dinosaur Therapy</td>\n",
       "      <td>http://viaf.org/viaf/121702213</td>\n",
       "      <td>NaN</td>\n",
       "    </tr>\n",
       "    <tr>\n",
       "      <th>3</th>\n",
       "      <td>James Rebanks</td>\n",
       "      <td>English Pastoral</td>\n",
       "      <td>http://viaf.org/viaf/311766886</td>\n",
       "      <td>NaN</td>\n",
       "    </tr>\n",
       "    <tr>\n",
       "      <th>4</th>\n",
       "      <td>Raynor Winn</td>\n",
       "      <td>The Wild Silence</td>\n",
       "      <td>http://viaf.org/viaf/74154921352863592450</td>\n",
       "      <td>NaN</td>\n",
       "    </tr>\n",
       "  </tbody>\n",
       "</table>\n",
       "</div>"
      ],
      "text/plain": [
       "             Author              Book  \\\n",
       "0  Merlin Sheldrake    Entangled Life   \n",
       "1   Jeremy Clarkson      Diddly Squat   \n",
       "2     James Stewart  Dinosaur Therapy   \n",
       "3     James Rebanks  English Pastoral   \n",
       "4       Raynor Winn  The Wild Silence   \n",
       "\n",
       "                                       Links Gender  \n",
       "0  http://viaf.org/viaf/31157340763509922488    NaN  \n",
       "1             http://viaf.org/viaf/102195935    NaN  \n",
       "2             http://viaf.org/viaf/121702213    NaN  \n",
       "3             http://viaf.org/viaf/311766886    NaN  \n",
       "4  http://viaf.org/viaf/74154921352863592450    NaN  "
      ]
     },
     "execution_count": 49,
     "metadata": {},
     "output_type": "execute_result"
    }
   ],
   "source": [
    "# Export to CSV \n",
    "viaf_authors.to_csv('/Users/nat/Desktop/Code/Code Projects/Book-Gender/Data/Viaf/Viaf-authors-gender-2021.csv')\n",
    "\n",
    "# Import CSV\n",
    "authors = pd.read_csv(\"/Users/nat/Desktop/Code/Code Projects/Book-Gender/Data/Viaf/Viaf-authors-gender-2021.csv\", dtype=str)\n",
    "\n",
    "# Drop unnecessary columns\n",
    "authors.drop('Unnamed: 0', axis=1, inplace=True)\n",
    "\n",
    "authors.head(5)"
   ]
  },
  {
   "cell_type": "markdown",
   "metadata": {},
   "source": [
    "### Statistics (VIAF)"
   ]
  },
  {
   "cell_type": "code",
   "execution_count": 16,
   "metadata": {},
   "outputs": [
    {
     "data": {
      "text/html": [
       "<div>\n",
       "<style scoped>\n",
       "    .dataframe tbody tr th:only-of-type {\n",
       "        vertical-align: middle;\n",
       "    }\n",
       "\n",
       "    .dataframe tbody tr th {\n",
       "        vertical-align: top;\n",
       "    }\n",
       "\n",
       "    .dataframe thead th {\n",
       "        text-align: right;\n",
       "    }\n",
       "</style>\n",
       "<table border=\"1\" class=\"dataframe\">\n",
       "  <thead>\n",
       "    <tr style=\"text-align: right;\">\n",
       "      <th></th>\n",
       "      <th>female</th>\n",
       "      <th>male</th>\n",
       "      <th>unknown</th>\n",
       "    </tr>\n",
       "  </thead>\n",
       "  <tbody>\n",
       "    <tr>\n",
       "      <th>0</th>\n",
       "      <td>106</td>\n",
       "      <td>175</td>\n",
       "      <td>30</td>\n",
       "    </tr>\n",
       "  </tbody>\n",
       "</table>\n",
       "</div>"
      ],
      "text/plain": [
       "   female  male  unknown\n",
       "0     106   175       30"
      ]
     },
     "execution_count": 16,
     "metadata": {},
     "output_type": "execute_result"
    }
   ],
   "source": [
    "f1 = authors['Gender'].value_counts()['Female'] # 113 <class 'numpy.int64'>\n",
    "m1 = authors['Gender'].value_counts()['Male'] # 202\n",
    "u1 = authors['Gender'].value_counts()['Unknown'] # 24\n",
    "\n",
    "data1 = pd.DataFrame({\n",
    "    'female': [f1],\n",
    "    'male': [m1],\n",
    "    'unknown': [u1]\n",
    "})\n",
    "data1"
   ]
  },
  {
   "cell_type": "markdown",
   "metadata": {},
   "source": [
    "## Predicting gender from first name by using Natural Language Processing\n",
    "\n",
    "For those bookdepository author names that didnt match with any VIAF data we can use NLTK to train and predict the binary gender of the authors from their first names. \n",
    "\n",
    "Of course the method is problematic. Not just because it predicts and assigns the wrong  gender to authors' first name but also because of the binary gender assumption. In this method there is no room for non-bianry and trans people. I tested the trained NLTK with my name and with 80% accuracy the code said I was a male. Well, I'm not. \n"
   ]
  },
  {
   "cell_type": "code",
   "execution_count": 17,
   "metadata": {},
   "outputs": [],
   "source": [
    "# Source: https://www.geeksforgeeks.org/python-gender-identification-by-name-using-nltk/\n",
    "\n",
    "import random\n",
    "from nltk.corpus import names\n",
    "import nltk"
   ]
  },
  {
   "cell_type": "code",
   "execution_count": 50,
   "metadata": {},
   "outputs": [
    {
     "data": {
      "text/html": [
       "<div>\n",
       "<style scoped>\n",
       "    .dataframe tbody tr th:only-of-type {\n",
       "        vertical-align: middle;\n",
       "    }\n",
       "\n",
       "    .dataframe tbody tr th {\n",
       "        vertical-align: top;\n",
       "    }\n",
       "\n",
       "    .dataframe thead th {\n",
       "        text-align: right;\n",
       "    }\n",
       "</style>\n",
       "<table border=\"1\" class=\"dataframe\">\n",
       "  <thead>\n",
       "    <tr style=\"text-align: right;\">\n",
       "      <th></th>\n",
       "      <th>Author</th>\n",
       "      <th>Book</th>\n",
       "      <th>Names</th>\n",
       "      <th>FirstName</th>\n",
       "      <th>Gender</th>\n",
       "    </tr>\n",
       "  </thead>\n",
       "  <tbody>\n",
       "    <tr>\n",
       "      <th>0</th>\n",
       "      <td>Lia Leendertz</td>\n",
       "      <td>The Almanac</td>\n",
       "      <td>Lia Leendertz</td>\n",
       "      <td>Lia</td>\n",
       "      <td></td>\n",
       "    </tr>\n",
       "    <tr>\n",
       "      <th>1</th>\n",
       "      <td>Sosuke Natsukawa</td>\n",
       "      <td>The Cat Who Saved Books</td>\n",
       "      <td>Sosuke Natsukawa</td>\n",
       "      <td>Sosuke</td>\n",
       "      <td></td>\n",
       "    </tr>\n",
       "    <tr>\n",
       "      <th>2</th>\n",
       "      <td>Lelia Wanick Salgado</td>\n",
       "      <td>Sebastiao Salgado. GENESIS</td>\n",
       "      <td>Lelia Wanick Salgado</td>\n",
       "      <td>Lelia</td>\n",
       "      <td></td>\n",
       "    </tr>\n",
       "    <tr>\n",
       "      <th>3</th>\n",
       "      <td>Rodney Habib</td>\n",
       "      <td>The Forever Dog</td>\n",
       "      <td>Rodney Habib</td>\n",
       "      <td>Rodney</td>\n",
       "      <td></td>\n",
       "    </tr>\n",
       "    <tr>\n",
       "      <th>4</th>\n",
       "      <td>Andrew Cotter</td>\n",
       "      <td>Dog Days</td>\n",
       "      <td>Andrew Cotter</td>\n",
       "      <td>Andrew</td>\n",
       "      <td></td>\n",
       "    </tr>\n",
       "  </tbody>\n",
       "</table>\n",
       "</div>"
      ],
      "text/plain": [
       "                 Author                        Book                 Names  \\\n",
       "0         Lia Leendertz                 The Almanac         Lia Leendertz   \n",
       "1      Sosuke Natsukawa     The Cat Who Saved Books      Sosuke Natsukawa   \n",
       "2  Lelia Wanick Salgado  Sebastiao Salgado. GENESIS  Lelia Wanick Salgado   \n",
       "3          Rodney Habib             The Forever Dog          Rodney Habib   \n",
       "4         Andrew Cotter                    Dog Days         Andrew Cotter   \n",
       "\n",
       "  FirstName Gender  \n",
       "0       Lia         \n",
       "1    Sosuke         \n",
       "2     Lelia         \n",
       "3    Rodney         \n",
       "4    Andrew         "
      ]
     },
     "execution_count": 50,
     "metadata": {},
     "output_type": "execute_result"
    }
   ],
   "source": [
    "# Import CSV\n",
    "predict_authors = pd.read_csv(\"/Users/nat/Desktop/Code/Code Projects/Book-Gender/Data/Viaf/Author_names_to_predict-2021.csv\", dtype=str)\n",
    "\n",
    "# Create a colum for first names\n",
    "predict_authors[\"FirstName\"] = \"\"\n",
    "predict_authors['FirstName'] = predict_authors['Names'].str.split(' ', expand=True)\n",
    "\n",
    "# Create an empty column for gender\n",
    "predict_authors[\"Gender\"] = \"\"\n",
    "\n",
    "# Drop unnecessary columns\n",
    "predict_authors.drop('Unnamed: 0', axis=1, inplace=True)\n",
    "\n",
    "predict_authors.head(5)"
   ]
  },
  {
   "cell_type": "code",
   "execution_count": 2,
   "metadata": {},
   "outputs": [
    {
     "ename": "NameError",
     "evalue": "name 'predict_authors' is not defined",
     "output_type": "error",
     "traceback": [
      "\u001b[0;31m---------------------------------------------------------------------------\u001b[0m",
      "\u001b[0;31mNameError\u001b[0m                                 Traceback (most recent call last)",
      "\u001b[0;32m<ipython-input-2-caf5f0f2a768>\u001b[0m in \u001b[0;36m<module>\u001b[0;34m\u001b[0m\n\u001b[1;32m     29\u001b[0m \u001b[0;31m# Use the new dataframe with Nan instead of \"book_database\" dataframe because emoty cells cause issues.\u001b[0m\u001b[0;34m\u001b[0m\u001b[0;34m\u001b[0m\u001b[0;34m\u001b[0m\u001b[0m\n\u001b[1;32m     30\u001b[0m \u001b[0;34m\u001b[0m\u001b[0m\n\u001b[0;32m---> 31\u001b[0;31m \u001b[0;32mfor\u001b[0m \u001b[0mi\u001b[0m \u001b[0;32min\u001b[0m \u001b[0mrange\u001b[0m\u001b[0;34m(\u001b[0m\u001b[0mlen\u001b[0m\u001b[0;34m(\u001b[0m\u001b[0mpredict_authors\u001b[0m\u001b[0;34m)\u001b[0m\u001b[0;34m)\u001b[0m\u001b[0;34m:\u001b[0m \u001b[0;31m#iterate over rows\u001b[0m\u001b[0;34m\u001b[0m\u001b[0;34m\u001b[0m\u001b[0m\n\u001b[0m\u001b[1;32m     32\u001b[0m \u001b[0;34m\u001b[0m\u001b[0m\n\u001b[1;32m     33\u001b[0m     \u001b[0;31m# Get the name\u001b[0m\u001b[0;34m\u001b[0m\u001b[0;34m\u001b[0m\u001b[0;34m\u001b[0m\u001b[0m\n",
      "\u001b[0;31mNameError\u001b[0m: name 'predict_authors' is not defined"
     ]
    }
   ],
   "source": [
    "import random\n",
    "from nltk.corpus import names\n",
    "import nltk\n",
    "\n",
    "# Source1: ntlk prediction: https://www.geeksforgeeks.org/python-gender-identification-by-name-using-nltk/\n",
    "\n",
    "def gender_features(word):\n",
    "    return {'last_letter':word[-1]}\n",
    "\n",
    "labeled_names = ([(name, 'Female') for name in names.words('/Users/nat/Desktop/Code/Code Projects/Book-Gender/Data/Names/female.txt')]+\n",
    "             [(name, 'Male') for name in names.words('/Users/nat/Desktop/Code/Code Projects/Book-Gender/Data/Names/male.txt')])\n",
    "\n",
    "random.shuffle(labeled_names)\n",
    "\n",
    "# we use the feature extractor to process the names data.\n",
    "featuresets = [(gender_features(n), gender) \n",
    "               for (n, gender)in labeled_names]\n",
    "  \n",
    "# Divide the resulting list of feature\n",
    "# sets into a training set and a test set.\n",
    "train_set, test_set = featuresets[500:], featuresets[:500]\n",
    "  \n",
    "# The training set is used to \n",
    "# train a new \"naive Bayes\" classifier.\n",
    "classifier = nltk.NaiveBayesClassifier.train(train_set)\n",
    "\n",
    "predicted_gender = []\n",
    "\n",
    "# Use the new dataframe with Nan instead of \"book_database\" dataframe because emoty cells cause issues.\n",
    "\n",
    "for i in range(len(predict_authors)): #iterate over rows\n",
    "    \n",
    "    # Get the name\n",
    "    name = predict_authors['FirstName'][i]\n",
    "    #print(name)\n",
    "    \n",
    "    # If the name is in the database check gender\n",
    "    if name in open('/Users/nat/Desktop/Code/Code Projects/Book-Gender/Data/Names/Allnames').read():\n",
    "        gender = classifier.classify(gender_features(name))\n",
    "        predict_authors[\"Gender\"][i] = str(gender)\n",
    "        #print(gender)\n",
    "    \n",
    "    # If the name is empty print unknown\n",
    "    elif name == 0:\n",
    "        predict_authors[\"Gender\"][i] = \"Unknown\"\n",
    "        #print(\"Empty\")\n",
    "        \n",
    "    # If the name is not in the database print unknown\n",
    "    else:\n",
    "        #print ('Unknown')\n",
    "        predict_authors[\"Gender\"][i] = \"Unknown\"\n",
    "    \n",
    "    "
   ]
  },
  {
   "cell_type": "code",
   "execution_count": 52,
   "metadata": {
    "scrolled": true
   },
   "outputs": [
    {
     "data": {
      "text/html": [
       "<div>\n",
       "<style scoped>\n",
       "    .dataframe tbody tr th:only-of-type {\n",
       "        vertical-align: middle;\n",
       "    }\n",
       "\n",
       "    .dataframe tbody tr th {\n",
       "        vertical-align: top;\n",
       "    }\n",
       "\n",
       "    .dataframe thead th {\n",
       "        text-align: right;\n",
       "    }\n",
       "</style>\n",
       "<table border=\"1\" class=\"dataframe\">\n",
       "  <thead>\n",
       "    <tr style=\"text-align: right;\">\n",
       "      <th></th>\n",
       "      <th>Author</th>\n",
       "      <th>Book</th>\n",
       "      <th>Names</th>\n",
       "      <th>FirstName</th>\n",
       "      <th>Gender</th>\n",
       "    </tr>\n",
       "  </thead>\n",
       "  <tbody>\n",
       "    <tr>\n",
       "      <th>0</th>\n",
       "      <td>Lia Leendertz</td>\n",
       "      <td>The Almanac</td>\n",
       "      <td>Lia Leendertz</td>\n",
       "      <td>Lia</td>\n",
       "      <td>Female</td>\n",
       "    </tr>\n",
       "    <tr>\n",
       "      <th>1</th>\n",
       "      <td>Sosuke Natsukawa</td>\n",
       "      <td>The Cat Who Saved Books</td>\n",
       "      <td>Sosuke Natsukawa</td>\n",
       "      <td>Sosuke</td>\n",
       "      <td>Unknown</td>\n",
       "    </tr>\n",
       "    <tr>\n",
       "      <th>2</th>\n",
       "      <td>Lelia Wanick Salgado</td>\n",
       "      <td>Sebastiao Salgado. GENESIS</td>\n",
       "      <td>Lelia Wanick Salgado</td>\n",
       "      <td>Lelia</td>\n",
       "      <td>Female</td>\n",
       "    </tr>\n",
       "    <tr>\n",
       "      <th>3</th>\n",
       "      <td>Rodney Habib</td>\n",
       "      <td>The Forever Dog</td>\n",
       "      <td>Rodney Habib</td>\n",
       "      <td>Rodney</td>\n",
       "      <td>Female</td>\n",
       "    </tr>\n",
       "    <tr>\n",
       "      <th>4</th>\n",
       "      <td>Andrew Cotter</td>\n",
       "      <td>Dog Days</td>\n",
       "      <td>Andrew Cotter</td>\n",
       "      <td>Andrew</td>\n",
       "      <td>Male</td>\n",
       "    </tr>\n",
       "  </tbody>\n",
       "</table>\n",
       "</div>"
      ],
      "text/plain": [
       "                 Author                        Book                 Names  \\\n",
       "0         Lia Leendertz                 The Almanac         Lia Leendertz   \n",
       "1      Sosuke Natsukawa     The Cat Who Saved Books      Sosuke Natsukawa   \n",
       "2  Lelia Wanick Salgado  Sebastiao Salgado. GENESIS  Lelia Wanick Salgado   \n",
       "3          Rodney Habib             The Forever Dog          Rodney Habib   \n",
       "4         Andrew Cotter                    Dog Days         Andrew Cotter   \n",
       "\n",
       "  FirstName   Gender  \n",
       "0       Lia   Female  \n",
       "1    Sosuke  Unknown  \n",
       "2     Lelia   Female  \n",
       "3    Rodney   Female  \n",
       "4    Andrew     Male  "
      ]
     },
     "execution_count": 52,
     "metadata": {},
     "output_type": "execute_result"
    }
   ],
   "source": [
    "#pd.set_option('display.max_rows', None)\n",
    "predict_authors.head(5)"
   ]
  },
  {
   "cell_type": "markdown",
   "metadata": {},
   "source": [
    "### Statistics (NTLK)"
   ]
  },
  {
   "cell_type": "code",
   "execution_count": 21,
   "metadata": {},
   "outputs": [
    {
     "data": {
      "text/html": [
       "<div>\n",
       "<style scoped>\n",
       "    .dataframe tbody tr th:only-of-type {\n",
       "        vertical-align: middle;\n",
       "    }\n",
       "\n",
       "    .dataframe tbody tr th {\n",
       "        vertical-align: top;\n",
       "    }\n",
       "\n",
       "    .dataframe thead th {\n",
       "        text-align: right;\n",
       "    }\n",
       "</style>\n",
       "<table border=\"1\" class=\"dataframe\">\n",
       "  <thead>\n",
       "    <tr style=\"text-align: right;\">\n",
       "      <th></th>\n",
       "      <th>female</th>\n",
       "      <th>male</th>\n",
       "      <th>unknown</th>\n",
       "    </tr>\n",
       "  </thead>\n",
       "  <tbody>\n",
       "    <tr>\n",
       "      <th>0</th>\n",
       "      <td>247</td>\n",
       "      <td>311</td>\n",
       "      <td>113</td>\n",
       "    </tr>\n",
       "  </tbody>\n",
       "</table>\n",
       "</div>"
      ],
      "text/plain": [
       "   female  male  unknown\n",
       "0     247   311      113"
      ]
     },
     "execution_count": 21,
     "metadata": {},
     "output_type": "execute_result"
    }
   ],
   "source": [
    "f2 = predict_authors['Gender'].value_counts()['Female'] # 133 OR 186\n",
    "m2 = predict_authors['Gender'].value_counts()['Male'] # 296\n",
    "u2 = predict_authors['Gender'].value_counts()['Unknown'] # 85\n",
    "\n",
    "data2 = pd.DataFrame({\n",
    "    'female': [f2],\n",
    "    'male': [m2],\n",
    "    'unknown': [u2]\n",
    "})\n",
    "data2"
   ]
  },
  {
   "cell_type": "markdown",
   "metadata": {},
   "source": [
    "## Summing it all up"
   ]
  },
  {
   "cell_type": "code",
   "execution_count": 39,
   "metadata": {},
   "outputs": [
    {
     "data": {
      "text/html": [
       "<div>\n",
       "<style scoped>\n",
       "    .dataframe tbody tr th:only-of-type {\n",
       "        vertical-align: middle;\n",
       "    }\n",
       "\n",
       "    .dataframe tbody tr th {\n",
       "        vertical-align: top;\n",
       "    }\n",
       "\n",
       "    .dataframe thead th {\n",
       "        text-align: right;\n",
       "    }\n",
       "</style>\n",
       "<table border=\"1\" class=\"dataframe\">\n",
       "  <thead>\n",
       "    <tr style=\"text-align: right;\">\n",
       "      <th></th>\n",
       "      <th>Female</th>\n",
       "      <th>Male</th>\n",
       "    </tr>\n",
       "  </thead>\n",
       "  <tbody>\n",
       "    <tr>\n",
       "      <th>0</th>\n",
       "      <td>353</td>\n",
       "      <td>486</td>\n",
       "    </tr>\n",
       "  </tbody>\n",
       "</table>\n",
       "</div>"
      ],
      "text/plain": [
       "   Female  Male\n",
       "0     353   486"
      ]
     },
     "execution_count": 39,
     "metadata": {},
     "output_type": "execute_result"
    }
   ],
   "source": [
    "# Total of VIAF gender & predicted gender\n",
    "total_f = f1 + f2\n",
    "total_m = m1 + m2\n",
    "total_u = u1 + u2\n",
    "\n",
    "total_with_unknown = pd.DataFrame({\n",
    "    'Female': [total_f],\n",
    "    'Male': [total_m],\n",
    "    'Unknown': [total_u]\n",
    "})\n",
    "\n",
    "total_without_unknown = pd.DataFrame({\n",
    "    'Female': [total_f],\n",
    "    'Male': [total_m]\n",
    "})\n",
    "\n",
    "total_without_unknown"
   ]
  },
  {
   "cell_type": "markdown",
   "metadata": {},
   "source": [
    "### Plots\n",
    "Lets plot the results with and without the unknown gender"
   ]
  },
  {
   "cell_type": "code",
   "execution_count": 43,
   "metadata": {},
   "outputs": [
    {
     "name": "stderr",
     "output_type": "stream",
     "text": [
      "/Users/nat/opt/anaconda3/envs/finalspace/lib/python3.7/site-packages/ipykernel_launcher.py:21: MatplotlibDeprecationWarning: Non-1D inputs to pie() are currently squeeze()d, but this behavior is deprecated since 3.1 and will be removed in 3.3; pass a 1D array instead.\n"
     ]
    },
    {
     "data": {
      "image/png": "[encoded data removed]",
      "text/plain": [
       "<Figure size 720x1080 with 1 Axes>"
      ]
     },
     "metadata": {},
     "output_type": "display_data"
    }
   ],
   "source": [
    "from matplotlib import pyplot as plt\n",
    "\n",
    "mylabels = [\"Female\", \"Male\"]\n",
    "mycolors = [\"#34595a\", \"#a0c293\"]\n",
    "\n",
    "#controls default text size\n",
    "plt.rc('font', size=15)\n",
    "\n",
    "# plot size\n",
    "plt.rcParams[\"figure.figsize\"] = [10, 15]\n",
    "\n",
    "#set title font to size 50\n",
    "plt.rc('axes', titlesize=50) \n",
    "\n",
    "plt.pie(total_without_unknown, \n",
    "        labels = mylabels, \n",
    "        autopct ='%1.1f%%',\n",
    "        colors = mycolors,\n",
    "        wedgeprops = {\"edgecolor\" : \"black\",\n",
    "                      'linewidth': 2,\n",
    "                      'antialiased': True})\n",
    "#plt.legend(loc='upper left')\n",
    "plt.title('Gender Gap')\n",
    "\n",
    "# Save figure\n",
    "plt.savefig('/Users/nat/Desktop/gender-gap.png', dpi = 100)\n",
    "\n",
    "# Display the graph onto the screen\n",
    "plt.show() "
   ]
  },
  {
   "cell_type": "code",
   "execution_count": 36,
   "metadata": {},
   "outputs": [
    {
     "name": "stderr",
     "output_type": "stream",
     "text": [
      "/Users/nat/opt/anaconda3/envs/finalspace/lib/python3.7/site-packages/ipykernel_launcher.py:17: MatplotlibDeprecationWarning: Non-1D inputs to pie() are currently squeeze()d, but this behavior is deprecated since 3.1 and will be removed in 3.3; pass a 1D array instead.\n",
      "/Users/nat/opt/anaconda3/envs/finalspace/lib/python3.7/site-packages/ipykernel_launcher.py:27: MatplotlibDeprecationWarning: Non-1D inputs to pie() are currently squeeze()d, but this behavior is deprecated since 3.1 and will be removed in 3.3; pass a 1D array instead.\n"
     ]
    },
    {
     "data": {
      "image/png": "[encoded data removed]",
      "text/plain": [
       "<Figure size 720x1080 with 2 Axes>"
      ]
     },
     "metadata": {},
     "output_type": "display_data"
    }
   ],
   "source": [
    "fig = plt.figure()\n",
    "\n",
    "mylabels1 = [\"Female\", \"Male\", \"Unknown\"]\n",
    "mycolors1 = [\"#34595a\", \"#a0c293\", \"#f0cfc3\"]\n",
    "\n",
    "mylabels2 = [\"Female\", \"Male\"]\n",
    "mycolors2 = [\"#34595a\", \"#a0c293\"]\n",
    "\n",
    "ax1 = fig.add_axes([0, 0, .5, .5], aspect=1)\n",
    "ax1.pie(total_with_unknown, \n",
    "        labels=mylabels1, \n",
    "        radius = 1.2,\n",
    "        autopct ='%1.1f%%',\n",
    "        colors = mycolors1,\n",
    "        wedgeprops = {\"edgecolor\" : \"black\",\n",
    "                      'linewidth': 2,\n",
    "                      'antialiased': True})\n",
    "\n",
    "ax2 = fig.add_axes([.5, .0, .5, .5], aspect=1)\n",
    "ax2.pie(total_without_unknown, \n",
    "        labels=mylabels2, \n",
    "        radius = 1.2,\n",
    "        autopct ='%1.1f%%',\n",
    "        colors = mycolors2,\n",
    "        wedgeprops = {\"edgecolor\" : \"black\",\n",
    "                      'linewidth': 2,\n",
    "                      'antialiased': True})\n",
    "\n",
    "ax1.set_title('Gender Gap')\n",
    "#ax2.set_title('Title for ax2')\n",
    "plt.show()"
   ]
  },
  {
   "cell_type": "code",
   "execution_count": null,
   "metadata": {},
   "outputs": [],
   "source": []
  }
 ],
 "metadata": {
  "hide_input": false,
  "kernelspec": {
   "display_name": "Python 3",
   "language": "python",
   "name": "python3"
  },
  "language_info": {
   "codemirror_mode": {
    "name": "ipython",
    "version": 3
   },
   "file_extension": ".py",
   "mimetype": "text/x-python",
   "name": "python",
   "nbconvert_exporter": "python",
   "pygments_lexer": "ipython3",
   "version": "3.7.10"
  },
  "toc": {
   "base_numbering": 1,
   "nav_menu": {},
   "number_sections": true,
   "sideBar": true,
   "skip_h1_title": true,
   "title_cell": "Table of Contents",
   "title_sidebar": "Contents",
   "toc_cell": true,
   "toc_position": {},
   "toc_section_display": true,
   "toc_window_display": false
  },
  "varInspector": {
   "cols": {
    "lenName": 16,
    "lenType": 16,
    "lenVar": 40
   },
   "kernels_config": {
    "python": {
     "delete_cmd_postfix": "",
     "delete_cmd_prefix": "del ",
     "library": "var_list.py",
     "varRefreshCmd": "print(var_dic_list())"
    },
    "r": {
     "delete_cmd_postfix": ") ",
     "delete_cmd_prefix": "rm(",
     "library": "var_list.r",
     "varRefreshCmd": "cat(var_dic_list()) "
    }
   },
   "types_to_exclude": [
    "module",
    "function",
    "builtin_function_or_method",
    "instance",
    "_Feature"
   ],
   "window_display": false
  }
 },
 "nbformat": 4,
 "nbformat_minor": 4
}
