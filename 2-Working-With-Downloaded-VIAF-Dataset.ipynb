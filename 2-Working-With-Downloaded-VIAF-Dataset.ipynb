{
 "cells": [
  {
   "cell_type": "markdown",
   "metadata": {
    "toc": true
   },
   "source": [
    "<h1>Table of Contents<span class=\"tocSkip\"></span></h1>\n",
    "<div class=\"toc\"><ul class=\"toc-item\"><li><span><a href=\"#Checking-The-File-Content\" data-toc-modified-id=\"Checking-The-File-Content-1\"><span class=\"toc-item-num\">1&nbsp;&nbsp;</span>Checking The File Content</a></span></li><li><span><a href=\"#Working-on-big-file\" data-toc-modified-id=\"Working-on-big-file-2\"><span class=\"toc-item-num\">2&nbsp;&nbsp;</span>Working on big file</a></span></li><li><span><a href=\"#Check-File-Size\" data-toc-modified-id=\"Check-File-Size-3\"><span class=\"toc-item-num\">3&nbsp;&nbsp;</span>Check File Size</a></span></li></ul></div>"
   ]
  },
  {
   "cell_type": "markdown",
   "metadata": {},
   "source": [
    "## Checking The File Content\n",
    "\n",
    "By checking file content we can see which rows are needed this way we can drop unwanted rows and decrease the file size (next step)."
   ]
  },
  {
   "cell_type": "code",
   "execution_count": null,
   "metadata": {},
   "outputs": [],
   "source": [
    "# Create a test file to check first 2000 lines\n",
    "# Because opening a 10GB CSV is memory intensive and impossible \n",
    "input_file = open('/Users/nat/Downloads/viaf.txt','r')\n",
    "output_file = open('/Users/nat/Downloads/viaf-test.txt','w')\n",
    " \n",
    "for lines in range(2000):\n",
    "    line = input_file.readline()\n",
    "    output_file.write(line)"
   ]
  },
  {
   "cell_type": "markdown",
   "metadata": {},
   "source": [
    "## Working on big file\n",
    "\n",
    "Note: The below operation takes a long time. Put yourself a coffee or do other tasks :)"
   ]
  },
  {
   "cell_type": "code",
   "execution_count": null,
   "metadata": {},
   "outputs": [],
   "source": [
    "import pandas as pd\n",
    "\n",
    "# Reading the text file\n",
    "\n",
    "# Note about the file: viaf-20220207-links.txt is ~9GB\n",
    "# After editing the file size should be ~ 225 MB\n",
    "\n",
    "df = pd.read_csv('/Users/nat/Desktop/Code/Code Projects/Book-Gender/Data/Viaf/viaf-20220207-links.txt', sep='\\t', header=None)\n",
    "\n",
    "# give headers to the dataframe\n",
    "df.columns = ['viaf', 'info']\n",
    "\n",
    "# A way to decrease file size is to drop unwanted rows\n",
    "# Drop all rows in the DataFrame that DOESNT contain ‘Wikipedia@’ in the info column. This way we get VIAF of people with wikipedia page\n",
    "df = df[df[\"info\"].str.contains(\"Wikipedia@\")== True]\n",
    "\n",
    "# check for duplicates on and keep='first' to keep first of duplicates.\n",
    "df = df.drop_duplicates(subset=['viaf'], keep='first')\n",
    "\n",
    "# The downloaded VIAF dataset doesnt have name of the person but we can get it from the wikipedia page\n",
    "df['Name'] = df['info'].str.split('wiki/').str[1]\n",
    "df['Name'] = df['Name'].str.split('_\\(').str[0]\n",
    "df['Name'] = df['Name'].str.replace('_',' ')\n",
    "\n",
    "#df.drop('Unnamed: 0', axis=1, inplace=True)\n"
   ]
  },
  {
   "cell_type": "code",
   "execution_count": 5,
   "metadata": {},
   "outputs": [],
   "source": [
    "# Export to CSV. File is now 197MB\n",
    "df.to_csv('/Users/nat/Desktop/Code/Code Projects/Book-Gender/Data/Viaf/Viaf-simple.csv')"
   ]
  },
  {
   "cell_type": "code",
   "execution_count": 7,
   "metadata": {},
   "outputs": [
    {
     "data": {
      "text/html": [
       "<div>\n",
       "<style scoped>\n",
       "    .dataframe tbody tr th:only-of-type {\n",
       "        vertical-align: middle;\n",
       "    }\n",
       "\n",
       "    .dataframe tbody tr th {\n",
       "        vertical-align: top;\n",
       "    }\n",
       "\n",
       "    .dataframe thead th {\n",
       "        text-align: right;\n",
       "    }\n",
       "</style>\n",
       "<table border=\"1\" class=\"dataframe\">\n",
       "  <thead>\n",
       "    <tr style=\"text-align: right;\">\n",
       "      <th></th>\n",
       "      <th>viaf</th>\n",
       "      <th>info</th>\n",
       "      <th>Name</th>\n",
       "    </tr>\n",
       "  </thead>\n",
       "  <tbody>\n",
       "    <tr>\n",
       "      <th>11</th>\n",
       "      <td>http://viaf.org/viaf/10001407</td>\n",
       "      <td>Wikipedia@https://cs.wikipedia.org/wiki/Pavel_...</td>\n",
       "      <td>Pavel Hrach</td>\n",
       "    </tr>\n",
       "    <tr>\n",
       "      <th>70</th>\n",
       "      <td>http://viaf.org/viaf/100109330</td>\n",
       "      <td>Wikipedia@https://fr.wikipedia.org/wiki/Emile_...</td>\n",
       "      <td>Emile de Meester de Ravestein</td>\n",
       "    </tr>\n",
       "    <tr>\n",
       "      <th>121</th>\n",
       "      <td>http://viaf.org/viaf/100144403</td>\n",
       "      <td>Wikipedia@https://cy.wikipedia.org/wiki/Teresa...</td>\n",
       "      <td>Teresa Magalhães</td>\n",
       "    </tr>\n",
       "    <tr>\n",
       "      <th>246</th>\n",
       "      <td>http://viaf.org/viaf/100177876</td>\n",
       "      <td>Wikipedia@https://nl.wikipedia.org/wiki/Guilla...</td>\n",
       "      <td>Guillaume Caoursin</td>\n",
       "    </tr>\n",
       "    <tr>\n",
       "      <th>331</th>\n",
       "      <td>http://viaf.org/viaf/100208187</td>\n",
       "      <td>Wikipedia@https://ru.wikipedia.org/wiki/Ришле,...</td>\n",
       "      <td>Ришле, Сезар-Пьер</td>\n",
       "    </tr>\n",
       "  </tbody>\n",
       "</table>\n",
       "</div>"
      ],
      "text/plain": [
       "                               viaf  \\\n",
       "11    http://viaf.org/viaf/10001407   \n",
       "70   http://viaf.org/viaf/100109330   \n",
       "121  http://viaf.org/viaf/100144403   \n",
       "246  http://viaf.org/viaf/100177876   \n",
       "331  http://viaf.org/viaf/100208187   \n",
       "\n",
       "                                                  info  \\\n",
       "11   Wikipedia@https://cs.wikipedia.org/wiki/Pavel_...   \n",
       "70   Wikipedia@https://fr.wikipedia.org/wiki/Emile_...   \n",
       "121  Wikipedia@https://cy.wikipedia.org/wiki/Teresa...   \n",
       "246  Wikipedia@https://nl.wikipedia.org/wiki/Guilla...   \n",
       "331  Wikipedia@https://ru.wikipedia.org/wiki/Ришле,...   \n",
       "\n",
       "                              Name  \n",
       "11                     Pavel Hrach  \n",
       "70   Emile de Meester de Ravestein  \n",
       "121               Teresa Magalhães  \n",
       "246             Guillaume Caoursin  \n",
       "331              Ришле, Сезар-Пьер  "
      ]
     },
     "execution_count": 7,
     "metadata": {},
     "output_type": "execute_result"
    }
   ],
   "source": [
    "df.head(5)"
   ]
  },
  {
   "cell_type": "code",
   "execution_count": 6,
   "metadata": {},
   "outputs": [
    {
     "data": {
      "text/plain": [
       "1901983"
      ]
     },
     "execution_count": 6,
     "metadata": {},
     "output_type": "execute_result"
    }
   ],
   "source": [
    "#df.head(100)\n",
    "len(df) # 1901983"
   ]
  },
  {
   "cell_type": "markdown",
   "metadata": {},
   "source": [
    "## Check File Size"
   ]
  },
  {
   "cell_type": "code",
   "execution_count": 9,
   "metadata": {},
   "outputs": [
    {
     "name": "stdout",
     "output_type": "stream",
     "text": [
      "Using 1st method : \n",
      "File size: 235407476 bytes\n",
      "File size: 229890.113 Kilobytes\n",
      "File size: 224.502 Megabytes\n",
      "File size: 0.219 Gigabytes\n"
     ]
    }
   ],
   "source": [
    "# Source : https://amiradata.com/python-get-file-size-in-kb-mb-or-gb/\n",
    "\n",
    "import os\n",
    "from pathlib import Path\n",
    " \n",
    "\n",
    "def get_file_size(file_path):\n",
    "    size = os.path.getsize(file_path)\n",
    "    return size\n",
    "\n",
    "def convert_bytes(size, unit=None):\n",
    "    if unit == \"KB\":\n",
    "        return print('File size: ' + str(round(size / 1024, 3)) + ' Kilobytes')\n",
    "    elif unit == \"MB\":\n",
    "        return print('File size: ' + str(round(size / (1024 * 1024), 3)) + ' Megabytes')\n",
    "    elif unit == \"GB\":\n",
    "        return print('File size: ' + str(round(size / (1024 * 1024 * 1024), 3)) + ' Gigabytes')\n",
    "    else:\n",
    "        return print('File size: ' + str(size) + ' bytes')\n",
    "\n",
    "file = '/Users/nat/Desktop/Code/Code Projects/Book-Gender/Data/Viaf/Viaf-simple.csv'\n",
    " \n",
    "print(\"Using 1st method : \")\n",
    "size = get_file_size(file)\n",
    " \n",
    "convert_bytes(size)\n",
    "convert_bytes(size, \"KB\")\n",
    "convert_bytes(size, \"MB\")\n",
    "convert_bytes(size, \"GB\")"
   ]
  },
  {
   "cell_type": "code",
   "execution_count": null,
   "metadata": {},
   "outputs": [],
   "source": []
  }
 ],
 "metadata": {
  "hide_input": false,
  "kernelspec": {
   "display_name": "Python 3",
   "language": "python",
   "name": "python3"
  },
  "language_info": {
   "codemirror_mode": {
    "name": "ipython",
    "version": 3
   },
   "file_extension": ".py",
   "mimetype": "text/x-python",
   "name": "python",
   "nbconvert_exporter": "python",
   "pygments_lexer": "ipython3",
   "version": "3.7.10"
  },
  "toc": {
   "base_numbering": 1,
   "nav_menu": {},
   "number_sections": true,
   "sideBar": true,
   "skip_h1_title": true,
   "title_cell": "Table of Contents",
   "title_sidebar": "Contents",
   "toc_cell": true,
   "toc_position": {},
   "toc_section_display": true,
   "toc_window_display": false
  },
  "varInspector": {
   "cols": {
    "lenName": 16,
    "lenType": 16,
    "lenVar": 40
   },
   "kernels_config": {
    "python": {
     "delete_cmd_postfix": "",
     "delete_cmd_prefix": "del ",
     "library": "var_list.py",
     "varRefreshCmd": "print(var_dic_list())"
    },
    "r": {
     "delete_cmd_postfix": ") ",
     "delete_cmd_prefix": "rm(",
     "library": "var_list.r",
     "varRefreshCmd": "cat(var_dic_list()) "
    }
   },
   "types_to_exclude": [
    "module",
    "function",
    "builtin_function_or_method",
    "instance",
    "_Feature"
   ],
   "window_display": false
  }
 },
 "nbformat": 4,
 "nbformat_minor": 4
}
